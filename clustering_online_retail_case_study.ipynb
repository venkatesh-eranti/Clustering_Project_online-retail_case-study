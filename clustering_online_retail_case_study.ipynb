{
  "nbformat": 4,
  "nbformat_minor": 0,
  "metadata": {
    "colab": {
      "name": "clustering_online-retail_case-study.ipynb",
      "provenance": [],
      "collapsed_sections": [],
      "authorship_tag": "ABX9TyOW0aDPG5nKiJaSTtCFHEhU",
      "include_colab_link": true
    },
    "kernelspec": {
      "name": "python3",
      "display_name": "Python 3"
    }
  },
  "cells": [
    {
      "cell_type": "markdown",
      "metadata": {
        "id": "view-in-github",
        "colab_type": "text"
      },
      "source": [
        "<a href=\"https://colab.research.google.com/github/venkatesh-eranti/Clustering_Project_online-retail_case-study/blob/main/clustering_online_retail_case_study.ipynb\" target=\"_parent\"><img src=\"https://colab.research.google.com/assets/colab-badge.svg\" alt=\"Open In Colab\"/></a>"
      ]
    },
    {
      "cell_type": "markdown",
      "metadata": {
        "id": "J5pJmgtYKwws"
      },
      "source": [
        "# Problem statement:\n",
        "For an [UK based non-store online retail](https://archive.ics.uci.edu/ml/datasets/online+retail) for which we need to cluster it's customers in to different groups so that we can run targeted campaign for each group"
      ]
    },
    {
      "cell_type": "markdown",
      "metadata": {
        "id": "68EO-XocMYUT"
      },
      "source": [
        "# Reading and understanding the data"
      ]
    },
    {
      "cell_type": "markdown",
      "metadata": {
        "id": "Gvgpfuf8Mmxb"
      },
      "source": [
        "## importing the necessary librariers"
      ]
    },
    {
      "cell_type": "code",
      "metadata": {
        "id": "6u-6bEq7JIQr"
      },
      "source": [
        "# reading and processing the data\n",
        "import numpy as np\n",
        "import pandas as pd\n",
        "# visualisation libraries\n",
        "import seaborn as sns\n",
        "import matplotlib.pyplot as plt\n",
        "# rescalling the data\n",
        "from sklearn.preprocessing import StandardScaler\n",
        "# clustering the data\n",
        "from sklearn.cluster import KMeans\n",
        "# silhouette_score\n",
        "from sklearn.metrics import silhouette_score\n",
        "# Hierarchical Clustering\n",
        "from scipy.cluster.hierarchy import linkage,dendrogram,cut_tree"
      ],
      "execution_count": null,
      "outputs": []
    },
    {
      "cell_type": "markdown",
      "metadata": {
        "id": "74DXB-KAOkcC"
      },
      "source": [
        "## loading the data from repository"
      ]
    },
    {
      "cell_type": "code",
      "metadata": {
        "id": "hO9tUNsuN2Xa"
      },
      "source": [
        "link='https://archive.ics.uci.edu/ml/machine-learning-databases/00352/Online%20Retail.xlsx'"
      ],
      "execution_count": null,
      "outputs": []
    },
    {
      "cell_type": "markdown",
      "metadata": {
        "id": "EZ8K10lsOu9S"
      },
      "source": [
        "Attribute information:\n",
        "* InvoiceNo: Invoice number. Nominal, a 6-digit integral number uniquely assigned to each transaction. If this code starts with letter 'c', it indicates a cancellation.\n",
        "* StockCode: Product (item) code. Nominal, a 5-digit integral number uniquely assigned to each distinct product.\n",
        "* Description: Product (item) name. Nominal.\n",
        "* Quantity: The quantities of each product (item) per transaction. Numeric.\n",
        "* InvoiceDate: Invoice Date and time. Numeric, the day and time when each transaction was generated.\n",
        "* UnitPrice: Unit price. Numeric, Product price per unit in sterling.\n",
        "* CustomerID: Customer number. Nominal, a 5-digit integral number uniquely assigned to each customer.\n",
        "* Country: Country name. Nominal, the name of the country where each customer resides."
      ]
    },
    {
      "cell_type": "code",
      "metadata": {
        "colab": {
          "base_uri": "https://localhost:8080/",
          "height": 198
        },
        "id": "Hy896TkQN3aq",
        "outputId": "5359bc5c-58df-4035-85c5-0d48a9d67180"
      },
      "source": [
        "df=pd.read_excel(link)\n",
        "df.head()"
      ],
      "execution_count": null,
      "outputs": [
        {
          "output_type": "execute_result",
          "data": {
            "text/html": [
              "<div>\n",
              "<style scoped>\n",
              "    .dataframe tbody tr th:only-of-type {\n",
              "        vertical-align: middle;\n",
              "    }\n",
              "\n",
              "    .dataframe tbody tr th {\n",
              "        vertical-align: top;\n",
              "    }\n",
              "\n",
              "    .dataframe thead th {\n",
              "        text-align: right;\n",
              "    }\n",
              "</style>\n",
              "<table border=\"1\" class=\"dataframe\">\n",
              "  <thead>\n",
              "    <tr style=\"text-align: right;\">\n",
              "      <th></th>\n",
              "      <th>InvoiceNo</th>\n",
              "      <th>StockCode</th>\n",
              "      <th>Description</th>\n",
              "      <th>Quantity</th>\n",
              "      <th>InvoiceDate</th>\n",
              "      <th>UnitPrice</th>\n",
              "      <th>CustomerID</th>\n",
              "      <th>Country</th>\n",
              "    </tr>\n",
              "  </thead>\n",
              "  <tbody>\n",
              "    <tr>\n",
              "      <th>0</th>\n",
              "      <td>536365</td>\n",
              "      <td>85123A</td>\n",
              "      <td>WHITE HANGING HEART T-LIGHT HOLDER</td>\n",
              "      <td>6</td>\n",
              "      <td>2010-12-01 08:26:00</td>\n",
              "      <td>2.55</td>\n",
              "      <td>17850.0</td>\n",
              "      <td>United Kingdom</td>\n",
              "    </tr>\n",
              "    <tr>\n",
              "      <th>1</th>\n",
              "      <td>536365</td>\n",
              "      <td>71053</td>\n",
              "      <td>WHITE METAL LANTERN</td>\n",
              "      <td>6</td>\n",
              "      <td>2010-12-01 08:26:00</td>\n",
              "      <td>3.39</td>\n",
              "      <td>17850.0</td>\n",
              "      <td>United Kingdom</td>\n",
              "    </tr>\n",
              "    <tr>\n",
              "      <th>2</th>\n",
              "      <td>536365</td>\n",
              "      <td>84406B</td>\n",
              "      <td>CREAM CUPID HEARTS COAT HANGER</td>\n",
              "      <td>8</td>\n",
              "      <td>2010-12-01 08:26:00</td>\n",
              "      <td>2.75</td>\n",
              "      <td>17850.0</td>\n",
              "      <td>United Kingdom</td>\n",
              "    </tr>\n",
              "    <tr>\n",
              "      <th>3</th>\n",
              "      <td>536365</td>\n",
              "      <td>84029G</td>\n",
              "      <td>KNITTED UNION FLAG HOT WATER BOTTLE</td>\n",
              "      <td>6</td>\n",
              "      <td>2010-12-01 08:26:00</td>\n",
              "      <td>3.39</td>\n",
              "      <td>17850.0</td>\n",
              "      <td>United Kingdom</td>\n",
              "    </tr>\n",
              "    <tr>\n",
              "      <th>4</th>\n",
              "      <td>536365</td>\n",
              "      <td>84029E</td>\n",
              "      <td>RED WOOLLY HOTTIE WHITE HEART.</td>\n",
              "      <td>6</td>\n",
              "      <td>2010-12-01 08:26:00</td>\n",
              "      <td>3.39</td>\n",
              "      <td>17850.0</td>\n",
              "      <td>United Kingdom</td>\n",
              "    </tr>\n",
              "  </tbody>\n",
              "</table>\n",
              "</div>"
            ],
            "text/plain": [
              "  InvoiceNo StockCode  ... CustomerID         Country\n",
              "0    536365    85123A  ...    17850.0  United Kingdom\n",
              "1    536365     71053  ...    17850.0  United Kingdom\n",
              "2    536365    84406B  ...    17850.0  United Kingdom\n",
              "3    536365    84029G  ...    17850.0  United Kingdom\n",
              "4    536365    84029E  ...    17850.0  United Kingdom\n",
              "\n",
              "[5 rows x 8 columns]"
            ]
          },
          "metadata": {
            "tags": []
          },
          "execution_count": 3
        }
      ]
    },
    {
      "cell_type": "markdown",
      "metadata": {
        "id": "RQJH2tGzQxkc"
      },
      "source": [
        "## understanding the data"
      ]
    },
    {
      "cell_type": "code",
      "metadata": {
        "colab": {
          "base_uri": "https://localhost:8080/"
        },
        "id": "MdV-HUx5RSwr",
        "outputId": "c5e93d2b-e154-4e61-e3bf-e2b373c8bbd2"
      },
      "source": [
        "df.shape"
      ],
      "execution_count": null,
      "outputs": [
        {
          "output_type": "execute_result",
          "data": {
            "text/plain": [
              "(541909, 8)"
            ]
          },
          "metadata": {
            "tags": []
          },
          "execution_count": 4
        }
      ]
    },
    {
      "cell_type": "code",
      "metadata": {
        "colab": {
          "base_uri": "https://localhost:8080/"
        },
        "id": "om8H2hjFQybL",
        "outputId": "ba6ec117-0fa1-4e2d-e810-48b180aee02c"
      },
      "source": [
        "df.info()"
      ],
      "execution_count": null,
      "outputs": [
        {
          "output_type": "stream",
          "text": [
            "<class 'pandas.core.frame.DataFrame'>\n",
            "RangeIndex: 541909 entries, 0 to 541908\n",
            "Data columns (total 8 columns):\n",
            " #   Column       Non-Null Count   Dtype         \n",
            "---  ------       --------------   -----         \n",
            " 0   InvoiceNo    541909 non-null  object        \n",
            " 1   StockCode    541909 non-null  object        \n",
            " 2   Description  540455 non-null  object        \n",
            " 3   Quantity     541909 non-null  int64         \n",
            " 4   InvoiceDate  541909 non-null  datetime64[ns]\n",
            " 5   UnitPrice    541909 non-null  float64       \n",
            " 6   CustomerID   406829 non-null  float64       \n",
            " 7   Country      541909 non-null  object        \n",
            "dtypes: datetime64[ns](1), float64(2), int64(1), object(4)\n",
            "memory usage: 33.1+ MB\n"
          ],
          "name": "stdout"
        }
      ]
    },
    {
      "cell_type": "markdown",
      "metadata": {
        "id": "0vR4XTj-U9vk"
      },
      "source": [
        "# clean the data"
      ]
    },
    {
      "cell_type": "markdown",
      "metadata": {
        "id": "Ul7a33KsVNzT"
      },
      "source": [
        "## Handling the missing values"
      ]
    },
    {
      "cell_type": "markdown",
      "metadata": {
        "id": "iBGZzP0lWW39"
      },
      "source": [
        "### percentaege of missing values"
      ]
    },
    {
      "cell_type": "code",
      "metadata": {
        "colab": {
          "base_uri": "https://localhost:8080/"
        },
        "id": "Liuq3zikU_RK",
        "outputId": "29873d75-28c0-465a-e38c-2128c9c14d60"
      },
      "source": [
        "100*round(df.isnull().sum()/len(df),4)"
      ],
      "execution_count": null,
      "outputs": [
        {
          "output_type": "execute_result",
          "data": {
            "text/plain": [
              "InvoiceNo       0.00\n",
              "StockCode       0.00\n",
              "Description     0.27\n",
              "Quantity        0.00\n",
              "InvoiceDate     0.00\n",
              "UnitPrice       0.00\n",
              "CustomerID     24.93\n",
              "Country         0.00\n",
              "dtype: float64"
            ]
          },
          "metadata": {
            "tags": []
          },
          "execution_count": 6
        }
      ]
    },
    {
      "cell_type": "markdown",
      "metadata": {
        "id": "p2f_4SZSWqJE"
      },
      "source": [
        "general rule is dropping missing values if the percentage of missing values are less than 1% and if missing values are more we need to drop the entrire column.But as this is customer segmentation study we can not drop the customer id column instead we need to drop the missing rows"
      ]
    },
    {
      "cell_type": "markdown",
      "metadata": {
        "id": "DaiTzyXFXj9b"
      },
      "source": [
        "### dropping all the missing values"
      ]
    },
    {
      "cell_type": "code",
      "metadata": {
        "colab": {
          "base_uri": "https://localhost:8080/"
        },
        "id": "MzQGIYREXDXJ",
        "outputId": "3c20c3b3-e0f4-4c61-d551-98918152468b"
      },
      "source": [
        "df=df.dropna()\n",
        "df.shape"
      ],
      "execution_count": null,
      "outputs": [
        {
          "output_type": "execute_result",
          "data": {
            "text/plain": [
              "(406829, 8)"
            ]
          },
          "metadata": {
            "tags": []
          },
          "execution_count": 7
        }
      ]
    },
    {
      "cell_type": "markdown",
      "metadata": {
        "id": "mdcPQqAbZ3tz"
      },
      "source": [
        "# preparation of data for modeling"
      ]
    },
    {
      "cell_type": "markdown",
      "metadata": {
        "id": "M4qHPCeGby_c"
      },
      "source": [
        "creating a useful metric `price/ amount` to get total order value"
      ]
    },
    {
      "cell_type": "code",
      "metadata": {
        "id": "81Z_CM7AXPR8"
      },
      "source": [
        "df['amount']=df['Quantity']*df['UnitPrice']"
      ],
      "execution_count": null,
      "outputs": []
    },
    {
      "cell_type": "code",
      "metadata": {
        "colab": {
          "base_uri": "https://localhost:8080/",
          "height": 198
        },
        "id": "U_45GT_SaO0M",
        "outputId": "408c1624-9967-43f5-d6c2-8e6c5985e347"
      },
      "source": [
        "df.head()"
      ],
      "execution_count": null,
      "outputs": [
        {
          "output_type": "execute_result",
          "data": {
            "text/html": [
              "<div>\n",
              "<style scoped>\n",
              "    .dataframe tbody tr th:only-of-type {\n",
              "        vertical-align: middle;\n",
              "    }\n",
              "\n",
              "    .dataframe tbody tr th {\n",
              "        vertical-align: top;\n",
              "    }\n",
              "\n",
              "    .dataframe thead th {\n",
              "        text-align: right;\n",
              "    }\n",
              "</style>\n",
              "<table border=\"1\" class=\"dataframe\">\n",
              "  <thead>\n",
              "    <tr style=\"text-align: right;\">\n",
              "      <th></th>\n",
              "      <th>InvoiceNo</th>\n",
              "      <th>StockCode</th>\n",
              "      <th>Description</th>\n",
              "      <th>Quantity</th>\n",
              "      <th>InvoiceDate</th>\n",
              "      <th>UnitPrice</th>\n",
              "      <th>CustomerID</th>\n",
              "      <th>Country</th>\n",
              "      <th>amount</th>\n",
              "    </tr>\n",
              "  </thead>\n",
              "  <tbody>\n",
              "    <tr>\n",
              "      <th>0</th>\n",
              "      <td>536365</td>\n",
              "      <td>85123A</td>\n",
              "      <td>WHITE HANGING HEART T-LIGHT HOLDER</td>\n",
              "      <td>6</td>\n",
              "      <td>2010-12-01 08:26:00</td>\n",
              "      <td>2.55</td>\n",
              "      <td>17850.0</td>\n",
              "      <td>United Kingdom</td>\n",
              "      <td>15.30</td>\n",
              "    </tr>\n",
              "    <tr>\n",
              "      <th>1</th>\n",
              "      <td>536365</td>\n",
              "      <td>71053</td>\n",
              "      <td>WHITE METAL LANTERN</td>\n",
              "      <td>6</td>\n",
              "      <td>2010-12-01 08:26:00</td>\n",
              "      <td>3.39</td>\n",
              "      <td>17850.0</td>\n",
              "      <td>United Kingdom</td>\n",
              "      <td>20.34</td>\n",
              "    </tr>\n",
              "    <tr>\n",
              "      <th>2</th>\n",
              "      <td>536365</td>\n",
              "      <td>84406B</td>\n",
              "      <td>CREAM CUPID HEARTS COAT HANGER</td>\n",
              "      <td>8</td>\n",
              "      <td>2010-12-01 08:26:00</td>\n",
              "      <td>2.75</td>\n",
              "      <td>17850.0</td>\n",
              "      <td>United Kingdom</td>\n",
              "      <td>22.00</td>\n",
              "    </tr>\n",
              "    <tr>\n",
              "      <th>3</th>\n",
              "      <td>536365</td>\n",
              "      <td>84029G</td>\n",
              "      <td>KNITTED UNION FLAG HOT WATER BOTTLE</td>\n",
              "      <td>6</td>\n",
              "      <td>2010-12-01 08:26:00</td>\n",
              "      <td>3.39</td>\n",
              "      <td>17850.0</td>\n",
              "      <td>United Kingdom</td>\n",
              "      <td>20.34</td>\n",
              "    </tr>\n",
              "    <tr>\n",
              "      <th>4</th>\n",
              "      <td>536365</td>\n",
              "      <td>84029E</td>\n",
              "      <td>RED WOOLLY HOTTIE WHITE HEART.</td>\n",
              "      <td>6</td>\n",
              "      <td>2010-12-01 08:26:00</td>\n",
              "      <td>3.39</td>\n",
              "      <td>17850.0</td>\n",
              "      <td>United Kingdom</td>\n",
              "      <td>20.34</td>\n",
              "    </tr>\n",
              "  </tbody>\n",
              "</table>\n",
              "</div>"
            ],
            "text/plain": [
              "  InvoiceNo StockCode  ...         Country  amount\n",
              "0    536365    85123A  ...  United Kingdom   15.30\n",
              "1    536365     71053  ...  United Kingdom   20.34\n",
              "2    536365    84406B  ...  United Kingdom   22.00\n",
              "3    536365    84029G  ...  United Kingdom   20.34\n",
              "4    536365    84029E  ...  United Kingdom   20.34\n",
              "\n",
              "[5 rows x 9 columns]"
            ]
          },
          "metadata": {
            "tags": []
          },
          "execution_count": 253
        }
      ]
    },
    {
      "cell_type": "markdown",
      "metadata": {
        "id": "JDqmizfxav2T"
      },
      "source": [
        "## RFM analysis for Customer Segmentation\n",
        "[RFM Analysis](https://clevertap.com/blog/rfm-analysis/): RFM stands for Recency, Frequency, and Monetary value, each corresponding to some key customer trait. These RFM metrics are important indicators of a customer’s behavior because frequency and monetary value affects a customer’s lifetime value, and recency affects retention, a measure of engagement."
      ]
    },
    {
      "cell_type": "markdown",
      "metadata": {
        "id": "4qIktuTLcD_D"
      },
      "source": [
        "- R (Recency): Number of days since last purchase\n",
        "- F (Frequency): Number of transactions over a period \n",
        "- M (Monetary): Total amount of transactions (revenue contributed)"
      ]
    },
    {
      "cell_type": "markdown",
      "metadata": {
        "id": "PnJqBNcKlgkb"
      },
      "source": [
        "### preparing Monetary feature"
      ]
    },
    {
      "cell_type": "code",
      "metadata": {
        "colab": {
          "base_uri": "https://localhost:8080/",
          "height": 198
        },
        "id": "TzlGhRTWlRZ1",
        "outputId": "e6870ca3-fc18-49c9-a3eb-b623685b971e"
      },
      "source": [
        "monetary_df=df.groupby('CustomerID')['amount'].sum()\n",
        "monetary_df=monetary_df.reset_index()\n",
        "monetary_df.head()"
      ],
      "execution_count": null,
      "outputs": [
        {
          "output_type": "execute_result",
          "data": {
            "text/html": [
              "<div>\n",
              "<style scoped>\n",
              "    .dataframe tbody tr th:only-of-type {\n",
              "        vertical-align: middle;\n",
              "    }\n",
              "\n",
              "    .dataframe tbody tr th {\n",
              "        vertical-align: top;\n",
              "    }\n",
              "\n",
              "    .dataframe thead th {\n",
              "        text-align: right;\n",
              "    }\n",
              "</style>\n",
              "<table border=\"1\" class=\"dataframe\">\n",
              "  <thead>\n",
              "    <tr style=\"text-align: right;\">\n",
              "      <th></th>\n",
              "      <th>CustomerID</th>\n",
              "      <th>amount</th>\n",
              "    </tr>\n",
              "  </thead>\n",
              "  <tbody>\n",
              "    <tr>\n",
              "      <th>0</th>\n",
              "      <td>12346.0</td>\n",
              "      <td>0.00</td>\n",
              "    </tr>\n",
              "    <tr>\n",
              "      <th>1</th>\n",
              "      <td>12347.0</td>\n",
              "      <td>4310.00</td>\n",
              "    </tr>\n",
              "    <tr>\n",
              "      <th>2</th>\n",
              "      <td>12348.0</td>\n",
              "      <td>1797.24</td>\n",
              "    </tr>\n",
              "    <tr>\n",
              "      <th>3</th>\n",
              "      <td>12349.0</td>\n",
              "      <td>1757.55</td>\n",
              "    </tr>\n",
              "    <tr>\n",
              "      <th>4</th>\n",
              "      <td>12350.0</td>\n",
              "      <td>334.40</td>\n",
              "    </tr>\n",
              "  </tbody>\n",
              "</table>\n",
              "</div>"
            ],
            "text/plain": [
              "   CustomerID   amount\n",
              "0     12346.0     0.00\n",
              "1     12347.0  4310.00\n",
              "2     12348.0  1797.24\n",
              "3     12349.0  1757.55\n",
              "4     12350.0   334.40"
            ]
          },
          "metadata": {
            "tags": []
          },
          "execution_count": 9
        }
      ]
    },
    {
      "cell_type": "markdown",
      "metadata": {
        "id": "Z5z1QyVrn4E0"
      },
      "source": [
        "showing 0.00 as amount?"
      ]
    },
    {
      "cell_type": "code",
      "metadata": {
        "colab": {
          "base_uri": "https://localhost:8080/",
          "height": 108
        },
        "id": "CnA4Z79Cn8D-",
        "outputId": "560122a3-42eb-4697-e658-e27672c5bbc0"
      },
      "source": [
        "df[df['CustomerID']==12346.0\t]"
      ],
      "execution_count": null,
      "outputs": [
        {
          "output_type": "execute_result",
          "data": {
            "text/html": [
              "<div>\n",
              "<style scoped>\n",
              "    .dataframe tbody tr th:only-of-type {\n",
              "        vertical-align: middle;\n",
              "    }\n",
              "\n",
              "    .dataframe tbody tr th {\n",
              "        vertical-align: top;\n",
              "    }\n",
              "\n",
              "    .dataframe thead th {\n",
              "        text-align: right;\n",
              "    }\n",
              "</style>\n",
              "<table border=\"1\" class=\"dataframe\">\n",
              "  <thead>\n",
              "    <tr style=\"text-align: right;\">\n",
              "      <th></th>\n",
              "      <th>InvoiceNo</th>\n",
              "      <th>StockCode</th>\n",
              "      <th>Description</th>\n",
              "      <th>Quantity</th>\n",
              "      <th>InvoiceDate</th>\n",
              "      <th>UnitPrice</th>\n",
              "      <th>CustomerID</th>\n",
              "      <th>Country</th>\n",
              "      <th>amount</th>\n",
              "    </tr>\n",
              "  </thead>\n",
              "  <tbody>\n",
              "    <tr>\n",
              "      <th>61619</th>\n",
              "      <td>541431</td>\n",
              "      <td>23166</td>\n",
              "      <td>MEDIUM CERAMIC TOP STORAGE JAR</td>\n",
              "      <td>74215</td>\n",
              "      <td>2011-01-18 10:01:00</td>\n",
              "      <td>1.04</td>\n",
              "      <td>12346.0</td>\n",
              "      <td>United Kingdom</td>\n",
              "      <td>77183.6</td>\n",
              "    </tr>\n",
              "    <tr>\n",
              "      <th>61624</th>\n",
              "      <td>C541433</td>\n",
              "      <td>23166</td>\n",
              "      <td>MEDIUM CERAMIC TOP STORAGE JAR</td>\n",
              "      <td>-74215</td>\n",
              "      <td>2011-01-18 10:17:00</td>\n",
              "      <td>1.04</td>\n",
              "      <td>12346.0</td>\n",
              "      <td>United Kingdom</td>\n",
              "      <td>-77183.6</td>\n",
              "    </tr>\n",
              "  </tbody>\n",
              "</table>\n",
              "</div>"
            ],
            "text/plain": [
              "      InvoiceNo StockCode  ...         Country   amount\n",
              "61619    541431     23166  ...  United Kingdom  77183.6\n",
              "61624   C541433     23166  ...  United Kingdom -77183.6\n",
              "\n",
              "[2 rows x 9 columns]"
            ]
          },
          "metadata": {
            "tags": []
          },
          "execution_count": 215
        }
      ]
    },
    {
      "cell_type": "markdown",
      "metadata": {
        "id": "uLDYRiADn-BG"
      },
      "source": [
        "customer ordered and then cancelled the order so it is zero"
      ]
    },
    {
      "cell_type": "markdown",
      "metadata": {
        "id": "qWlbJ7jdltsm"
      },
      "source": [
        "### preparing Frequency feature"
      ]
    },
    {
      "cell_type": "code",
      "metadata": {
        "colab": {
          "base_uri": "https://localhost:8080/",
          "height": 198
        },
        "id": "zlY67PoHmZQ8",
        "outputId": "28223018-b013-4dd3-8f6d-26386713ed71"
      },
      "source": [
        "frequency_df=df.groupby('CustomerID')['InvoiceNo'].count().reset_index()\n",
        "frequency_df.head()"
      ],
      "execution_count": null,
      "outputs": [
        {
          "output_type": "execute_result",
          "data": {
            "text/html": [
              "<div>\n",
              "<style scoped>\n",
              "    .dataframe tbody tr th:only-of-type {\n",
              "        vertical-align: middle;\n",
              "    }\n",
              "\n",
              "    .dataframe tbody tr th {\n",
              "        vertical-align: top;\n",
              "    }\n",
              "\n",
              "    .dataframe thead th {\n",
              "        text-align: right;\n",
              "    }\n",
              "</style>\n",
              "<table border=\"1\" class=\"dataframe\">\n",
              "  <thead>\n",
              "    <tr style=\"text-align: right;\">\n",
              "      <th></th>\n",
              "      <th>CustomerID</th>\n",
              "      <th>InvoiceNo</th>\n",
              "    </tr>\n",
              "  </thead>\n",
              "  <tbody>\n",
              "    <tr>\n",
              "      <th>0</th>\n",
              "      <td>12346.0</td>\n",
              "      <td>2</td>\n",
              "    </tr>\n",
              "    <tr>\n",
              "      <th>1</th>\n",
              "      <td>12347.0</td>\n",
              "      <td>182</td>\n",
              "    </tr>\n",
              "    <tr>\n",
              "      <th>2</th>\n",
              "      <td>12348.0</td>\n",
              "      <td>31</td>\n",
              "    </tr>\n",
              "    <tr>\n",
              "      <th>3</th>\n",
              "      <td>12349.0</td>\n",
              "      <td>73</td>\n",
              "    </tr>\n",
              "    <tr>\n",
              "      <th>4</th>\n",
              "      <td>12350.0</td>\n",
              "      <td>17</td>\n",
              "    </tr>\n",
              "  </tbody>\n",
              "</table>\n",
              "</div>"
            ],
            "text/plain": [
              "   CustomerID  InvoiceNo\n",
              "0     12346.0          2\n",
              "1     12347.0        182\n",
              "2     12348.0         31\n",
              "3     12349.0         73\n",
              "4     12350.0         17"
            ]
          },
          "metadata": {
            "tags": []
          },
          "execution_count": 10
        }
      ]
    },
    {
      "cell_type": "code",
      "metadata": {
        "colab": {
          "base_uri": "https://localhost:8080/",
          "height": 198
        },
        "id": "qyTqjtR9mxWJ",
        "outputId": "84bb4eec-cd69-44a3-ddad-ac362a2f9ba8"
      },
      "source": [
        "frequency_df=frequency_df.rename(columns={'InvoiceNo':'frequency'})\n",
        "frequency_df.head()"
      ],
      "execution_count": null,
      "outputs": [
        {
          "output_type": "execute_result",
          "data": {
            "text/html": [
              "<div>\n",
              "<style scoped>\n",
              "    .dataframe tbody tr th:only-of-type {\n",
              "        vertical-align: middle;\n",
              "    }\n",
              "\n",
              "    .dataframe tbody tr th {\n",
              "        vertical-align: top;\n",
              "    }\n",
              "\n",
              "    .dataframe thead th {\n",
              "        text-align: right;\n",
              "    }\n",
              "</style>\n",
              "<table border=\"1\" class=\"dataframe\">\n",
              "  <thead>\n",
              "    <tr style=\"text-align: right;\">\n",
              "      <th></th>\n",
              "      <th>CustomerID</th>\n",
              "      <th>frequency</th>\n",
              "    </tr>\n",
              "  </thead>\n",
              "  <tbody>\n",
              "    <tr>\n",
              "      <th>0</th>\n",
              "      <td>12346.0</td>\n",
              "      <td>2</td>\n",
              "    </tr>\n",
              "    <tr>\n",
              "      <th>1</th>\n",
              "      <td>12347.0</td>\n",
              "      <td>182</td>\n",
              "    </tr>\n",
              "    <tr>\n",
              "      <th>2</th>\n",
              "      <td>12348.0</td>\n",
              "      <td>31</td>\n",
              "    </tr>\n",
              "    <tr>\n",
              "      <th>3</th>\n",
              "      <td>12349.0</td>\n",
              "      <td>73</td>\n",
              "    </tr>\n",
              "    <tr>\n",
              "      <th>4</th>\n",
              "      <td>12350.0</td>\n",
              "      <td>17</td>\n",
              "    </tr>\n",
              "  </tbody>\n",
              "</table>\n",
              "</div>"
            ],
            "text/plain": [
              "   CustomerID  frequency\n",
              "0     12346.0          2\n",
              "1     12347.0        182\n",
              "2     12348.0         31\n",
              "3     12349.0         73\n",
              "4     12350.0         17"
            ]
          },
          "metadata": {
            "tags": []
          },
          "execution_count": 11
        }
      ]
    },
    {
      "cell_type": "markdown",
      "metadata": {
        "id": "hgf1mjqdrXNn"
      },
      "source": [
        "### preparing recency feature\n",
        "Number of days since last purchase"
      ]
    },
    {
      "cell_type": "code",
      "metadata": {
        "id": "8WR1EEkvnsqE"
      },
      "source": [
        "recency_df=df.copy()\n",
        "recency_df['date_diff']=df['InvoiceDate'].max()-df['InvoiceDate']\n",
        "recency_df=recency_df.groupby('CustomerID')['date_diff'].min().reset_index()"
      ],
      "execution_count": null,
      "outputs": []
    },
    {
      "cell_type": "code",
      "metadata": {
        "colab": {
          "base_uri": "https://localhost:8080/",
          "height": 198
        },
        "id": "SUkSBTE8s0GV",
        "outputId": "7e5ef9c0-dec4-4da0-de2a-41ea07440610"
      },
      "source": [
        "recency_df=recency_df.rename(columns={'date_diff':'recency'})\n",
        "recency_df.head()"
      ],
      "execution_count": null,
      "outputs": [
        {
          "output_type": "execute_result",
          "data": {
            "text/html": [
              "<div>\n",
              "<style scoped>\n",
              "    .dataframe tbody tr th:only-of-type {\n",
              "        vertical-align: middle;\n",
              "    }\n",
              "\n",
              "    .dataframe tbody tr th {\n",
              "        vertical-align: top;\n",
              "    }\n",
              "\n",
              "    .dataframe thead th {\n",
              "        text-align: right;\n",
              "    }\n",
              "</style>\n",
              "<table border=\"1\" class=\"dataframe\">\n",
              "  <thead>\n",
              "    <tr style=\"text-align: right;\">\n",
              "      <th></th>\n",
              "      <th>CustomerID</th>\n",
              "      <th>recency</th>\n",
              "    </tr>\n",
              "  </thead>\n",
              "  <tbody>\n",
              "    <tr>\n",
              "      <th>0</th>\n",
              "      <td>12346.0</td>\n",
              "      <td>325 days 02:33:00</td>\n",
              "    </tr>\n",
              "    <tr>\n",
              "      <th>1</th>\n",
              "      <td>12347.0</td>\n",
              "      <td>1 days 20:58:00</td>\n",
              "    </tr>\n",
              "    <tr>\n",
              "      <th>2</th>\n",
              "      <td>12348.0</td>\n",
              "      <td>74 days 23:37:00</td>\n",
              "    </tr>\n",
              "    <tr>\n",
              "      <th>3</th>\n",
              "      <td>12349.0</td>\n",
              "      <td>18 days 02:59:00</td>\n",
              "    </tr>\n",
              "    <tr>\n",
              "      <th>4</th>\n",
              "      <td>12350.0</td>\n",
              "      <td>309 days 20:49:00</td>\n",
              "    </tr>\n",
              "  </tbody>\n",
              "</table>\n",
              "</div>"
            ],
            "text/plain": [
              "   CustomerID           recency\n",
              "0     12346.0 325 days 02:33:00\n",
              "1     12347.0   1 days 20:58:00\n",
              "2     12348.0  74 days 23:37:00\n",
              "3     12349.0  18 days 02:59:00\n",
              "4     12350.0 309 days 20:49:00"
            ]
          },
          "metadata": {
            "tags": []
          },
          "execution_count": 13
        }
      ]
    },
    {
      "cell_type": "markdown",
      "metadata": {
        "id": "2L9xu2xqsJeu"
      },
      "source": [
        "### merging all RFM features in to single DataFrame"
      ]
    },
    {
      "cell_type": "code",
      "metadata": {
        "id": "VXXdtIwPnRCM"
      },
      "source": [
        "rfm_df=pd.merge(pd.merge(monetary_df,frequency_df),recency_df)"
      ],
      "execution_count": null,
      "outputs": []
    },
    {
      "cell_type": "code",
      "metadata": {
        "colab": {
          "base_uri": "https://localhost:8080/",
          "height": 198
        },
        "id": "5a6cOnibtfM1",
        "outputId": "2a617c1d-f4a5-4ac2-f7ee-d41802195a47"
      },
      "source": [
        "rfm_df['recency']=rfm_df['recency'].dt.days\n",
        "rfm_df.head()"
      ],
      "execution_count": null,
      "outputs": [
        {
          "output_type": "execute_result",
          "data": {
            "text/html": [
              "<div>\n",
              "<style scoped>\n",
              "    .dataframe tbody tr th:only-of-type {\n",
              "        vertical-align: middle;\n",
              "    }\n",
              "\n",
              "    .dataframe tbody tr th {\n",
              "        vertical-align: top;\n",
              "    }\n",
              "\n",
              "    .dataframe thead th {\n",
              "        text-align: right;\n",
              "    }\n",
              "</style>\n",
              "<table border=\"1\" class=\"dataframe\">\n",
              "  <thead>\n",
              "    <tr style=\"text-align: right;\">\n",
              "      <th></th>\n",
              "      <th>CustomerID</th>\n",
              "      <th>amount</th>\n",
              "      <th>frequency</th>\n",
              "      <th>recency</th>\n",
              "    </tr>\n",
              "  </thead>\n",
              "  <tbody>\n",
              "    <tr>\n",
              "      <th>0</th>\n",
              "      <td>12346.0</td>\n",
              "      <td>0.00</td>\n",
              "      <td>2</td>\n",
              "      <td>325</td>\n",
              "    </tr>\n",
              "    <tr>\n",
              "      <th>1</th>\n",
              "      <td>12347.0</td>\n",
              "      <td>4310.00</td>\n",
              "      <td>182</td>\n",
              "      <td>1</td>\n",
              "    </tr>\n",
              "    <tr>\n",
              "      <th>2</th>\n",
              "      <td>12348.0</td>\n",
              "      <td>1797.24</td>\n",
              "      <td>31</td>\n",
              "      <td>74</td>\n",
              "    </tr>\n",
              "    <tr>\n",
              "      <th>3</th>\n",
              "      <td>12349.0</td>\n",
              "      <td>1757.55</td>\n",
              "      <td>73</td>\n",
              "      <td>18</td>\n",
              "    </tr>\n",
              "    <tr>\n",
              "      <th>4</th>\n",
              "      <td>12350.0</td>\n",
              "      <td>334.40</td>\n",
              "      <td>17</td>\n",
              "      <td>309</td>\n",
              "    </tr>\n",
              "  </tbody>\n",
              "</table>\n",
              "</div>"
            ],
            "text/plain": [
              "   CustomerID   amount  frequency  recency\n",
              "0     12346.0     0.00          2      325\n",
              "1     12347.0  4310.00        182        1\n",
              "2     12348.0  1797.24         31       74\n",
              "3     12349.0  1757.55         73       18\n",
              "4     12350.0   334.40         17      309"
            ]
          },
          "metadata": {
            "tags": []
          },
          "execution_count": 15
        }
      ]
    },
    {
      "cell_type": "markdown",
      "metadata": {
        "id": "gB43PoX4vHX3"
      },
      "source": [
        "## outlier detection\n"
      ]
    },
    {
      "cell_type": "code",
      "metadata": {
        "id": "auyg6jyP1hnl"
      },
      "source": [
        "import warnings\n",
        "warnings.filterwarnings('ignore')"
      ],
      "execution_count": null,
      "outputs": []
    },
    {
      "cell_type": "code",
      "metadata": {
        "colab": {
          "base_uri": "https://localhost:8080/",
          "height": 279
        },
        "id": "vORJuqEY0yBl",
        "outputId": "d14b6b31-9c66-4b4b-f33f-f161ad6f1b53"
      },
      "source": [
        "fig,axs=plt.subplots(1,3,figsize=(12,4));\n",
        "sns.boxplot(rfm_df['recency'],ax=axs[0]);\n",
        "sns.boxplot(rfm_df['frequency'],ax=axs[1]);\n",
        "sns.boxplot(rfm_df['amount'],ax=axs[2]);"
      ],
      "execution_count": null,
      "outputs": [
        {
          "output_type": "display_data",
          "data": {
            "image/png": "[encoded data removed]",
            "text/plain": [
              "<Figure size 864x288 with 3 Axes>"
            ]
          },
          "metadata": {
            "tags": [],
            "needs_background": "light"
          }
        }
      ]
    },
    {
      "cell_type": "code",
      "metadata": {
        "id": "zHu7BAVf1nvt"
      },
      "source": [
        "import warnings\n",
        "warnings.resetwarnings()"
      ],
      "execution_count": null,
      "outputs": []
    },
    {
      "cell_type": "markdown",
      "metadata": {
        "id": "sAid0yq91Zow"
      },
      "source": [
        "### observations from boxplots:\n",
        "in **statistical** sense i can see there are many outliers in all 3 features but in **business** sense i may need these ouliers to increase my business or take some corrective action for the customers who are not recent visitors. or may be give some exceptional discounts for valued customer who spends more money(outliers are a good opportunity to lean a new trends or something that even retailers might not know).<br>\n",
        "but for this study i am going to remove ouliers which are 1.5 S.D away from mean.\n"
      ]
    },
    {
      "cell_type": "code",
      "metadata": {
        "colab": {
          "base_uri": "https://localhost:8080/",
          "height": 108
        },
        "id": "I2mzxkPYjm2j",
        "outputId": "9dd651c4-be25-45ad-d9cd-07a34746b32c"
      },
      "source": [
        "rfm_df.head(2)"
      ],
      "execution_count": null,
      "outputs": [
        {
          "output_type": "execute_result",
          "data": {
            "text/html": [
              "<div>\n",
              "<style scoped>\n",
              "    .dataframe tbody tr th:only-of-type {\n",
              "        vertical-align: middle;\n",
              "    }\n",
              "\n",
              "    .dataframe tbody tr th {\n",
              "        vertical-align: top;\n",
              "    }\n",
              "\n",
              "    .dataframe thead th {\n",
              "        text-align: right;\n",
              "    }\n",
              "</style>\n",
              "<table border=\"1\" class=\"dataframe\">\n",
              "  <thead>\n",
              "    <tr style=\"text-align: right;\">\n",
              "      <th></th>\n",
              "      <th>CustomerID</th>\n",
              "      <th>amount</th>\n",
              "      <th>frequency</th>\n",
              "      <th>recency</th>\n",
              "    </tr>\n",
              "  </thead>\n",
              "  <tbody>\n",
              "    <tr>\n",
              "      <th>0</th>\n",
              "      <td>12346.0</td>\n",
              "      <td>0.0</td>\n",
              "      <td>2</td>\n",
              "      <td>325</td>\n",
              "    </tr>\n",
              "    <tr>\n",
              "      <th>1</th>\n",
              "      <td>12347.0</td>\n",
              "      <td>4310.0</td>\n",
              "      <td>182</td>\n",
              "      <td>1</td>\n",
              "    </tr>\n",
              "  </tbody>\n",
              "</table>\n",
              "</div>"
            ],
            "text/plain": [
              "   CustomerID  amount  frequency  recency\n",
              "0     12346.0     0.0          2      325\n",
              "1     12347.0  4310.0        182        1"
            ]
          },
          "metadata": {
            "tags": []
          },
          "execution_count": 19
        }
      ]
    },
    {
      "cell_type": "code",
      "metadata": {
        "colab": {
          "base_uri": "https://localhost:8080/"
        },
        "id": "Jez0qYOPjrJ5",
        "outputId": "06c1219e-3570-452b-b121-294845d2ee22"
      },
      "source": [
        "rfm_df.shape"
      ],
      "execution_count": null,
      "outputs": [
        {
          "output_type": "execute_result",
          "data": {
            "text/plain": [
              "(4372, 4)"
            ]
          },
          "metadata": {
            "tags": []
          },
          "execution_count": 20
        }
      ]
    },
    {
      "cell_type": "code",
      "metadata": {
        "id": "OEeGyRu_jrak"
      },
      "source": [
        "Q1 = rfm_df.amount.quantile(0.05)\n",
        "Q3 = rfm_df.amount.quantile(0.95)\n",
        "IQR = Q3 - Q1\n",
        "rfm_df = rfm_df[(rfm_df.amount >= Q1 - 1.5*IQR) & (rfm_df.amount <= Q3 + 1.5*IQR)]"
      ],
      "execution_count": null,
      "outputs": []
    },
    {
      "cell_type": "code",
      "metadata": {
        "id": "LEPDvcx1jq9q"
      },
      "source": [
        "Q1 = rfm_df.recency.quantile(0.05)\n",
        "Q3 = rfm_df.recency.quantile(0.95)\n",
        "IQR = Q3 - Q1\n",
        "rfm_df = rfm_df[(rfm_df.recency >= Q1 - 1.5*IQR) & (rfm_df.recency <= Q3 + 1.5*IQR)]"
      ],
      "execution_count": null,
      "outputs": []
    },
    {
      "cell_type": "code",
      "metadata": {
        "id": "TFX_IF1Okqpi"
      },
      "source": [
        "Q1 = rfm_df.frequency.quantile(0.05)\n",
        "Q3 = rfm_df.frequency.quantile(0.95)\n",
        "IQR = Q3 - Q1\n",
        "rfm_df = rfm_df[(rfm_df.frequency >= Q1 - 1.5*IQR) & (rfm_df.frequency <= Q3 + 1.5*IQR)]"
      ],
      "execution_count": null,
      "outputs": []
    },
    {
      "cell_type": "code",
      "metadata": {
        "colab": {
          "base_uri": "https://localhost:8080/"
        },
        "id": "LaJsnH4Zkq5i",
        "outputId": "4060b634-a63d-4f71-f9a5-f7378512f721"
      },
      "source": [
        "rfm_df.shape"
      ],
      "execution_count": null,
      "outputs": [
        {
          "output_type": "execute_result",
          "data": {
            "text/plain": [
              "(4293, 4)"
            ]
          },
          "metadata": {
            "tags": []
          },
          "execution_count": 24
        }
      ]
    },
    {
      "cell_type": "markdown",
      "metadata": {
        "id": "VecDPWMB3eL-"
      },
      "source": [
        "## Rescaling the features\n",
        "as clustering algorithm works by measuring distances so it is influenced by the data if they are in different scales"
      ]
    },
    {
      "cell_type": "code",
      "metadata": {
        "id": "Ykwe--Q02wvd"
      },
      "source": [
        "scaler=StandardScaler()"
      ],
      "execution_count": null,
      "outputs": []
    },
    {
      "cell_type": "code",
      "metadata": {
        "id": "YLj4gwPH6vbq"
      },
      "source": [
        "rfm_df_scaled=rfm_df.copy()"
      ],
      "execution_count": null,
      "outputs": []
    },
    {
      "cell_type": "code",
      "metadata": {
        "id": "7oJRa25O5-cO"
      },
      "source": [
        "rfm_df_scaled[rfm_df_scaled.columns.drop('CustomerID')]=scaler.fit_transform(rfm_df_scaled[rfm_df_scaled.columns.drop('CustomerID')])"
      ],
      "execution_count": null,
      "outputs": []
    },
    {
      "cell_type": "code",
      "metadata": {
        "colab": {
          "base_uri": "https://localhost:8080/",
          "height": 198
        },
        "id": "7eSYw9tA6TbR",
        "outputId": "03c8e87d-a305-4807-fd7d-ada492ca0349"
      },
      "source": [
        "rfm_df_scaled=rfm_df_scaled.drop('CustomerID',axis=1)\n",
        "rfm_df_scaled.head()"
      ],
      "execution_count": null,
      "outputs": [
        {
          "output_type": "execute_result",
          "data": {
            "text/html": [
              "<div>\n",
              "<style scoped>\n",
              "    .dataframe tbody tr th:only-of-type {\n",
              "        vertical-align: middle;\n",
              "    }\n",
              "\n",
              "    .dataframe tbody tr th {\n",
              "        vertical-align: top;\n",
              "    }\n",
              "\n",
              "    .dataframe thead th {\n",
              "        text-align: right;\n",
              "    }\n",
              "</style>\n",
              "<table border=\"1\" class=\"dataframe\">\n",
              "  <thead>\n",
              "    <tr style=\"text-align: right;\">\n",
              "      <th></th>\n",
              "      <th>amount</th>\n",
              "      <th>frequency</th>\n",
              "      <th>recency</th>\n",
              "    </tr>\n",
              "  </thead>\n",
              "  <tbody>\n",
              "    <tr>\n",
              "      <th>0</th>\n",
              "      <td>-0.723738</td>\n",
              "      <td>-0.752888</td>\n",
              "      <td>2.301611</td>\n",
              "    </tr>\n",
              "    <tr>\n",
              "      <th>1</th>\n",
              "      <td>1.731617</td>\n",
              "      <td>1.042467</td>\n",
              "      <td>-0.906466</td>\n",
              "    </tr>\n",
              "    <tr>\n",
              "      <th>2</th>\n",
              "      <td>0.300128</td>\n",
              "      <td>-0.463636</td>\n",
              "      <td>-0.183658</td>\n",
              "    </tr>\n",
              "    <tr>\n",
              "      <th>3</th>\n",
              "      <td>0.277517</td>\n",
              "      <td>-0.044720</td>\n",
              "      <td>-0.738141</td>\n",
              "    </tr>\n",
              "    <tr>\n",
              "      <th>4</th>\n",
              "      <td>-0.533235</td>\n",
              "      <td>-0.603275</td>\n",
              "      <td>2.143188</td>\n",
              "    </tr>\n",
              "  </tbody>\n",
              "</table>\n",
              "</div>"
            ],
            "text/plain": [
              "     amount  frequency   recency\n",
              "0 -0.723738  -0.752888  2.301611\n",
              "1  1.731617   1.042467 -0.906466\n",
              "2  0.300128  -0.463636 -0.183658\n",
              "3  0.277517  -0.044720 -0.738141\n",
              "4 -0.533235  -0.603275  2.143188"
            ]
          },
          "metadata": {
            "tags": []
          },
          "execution_count": 28
        }
      ]
    },
    {
      "cell_type": "markdown",
      "metadata": {
        "id": "cxlj7t0dK3Pn"
      },
      "source": [
        "## Hopkins Statistics:\n",
        "The Hopkins statistic, is a statistic which gives a value which indicates the **cluster tendency**, in other words: how well the data can be clustered.<br>\n",
        "\n",
        "If the value is between {0.01, ...,0.3}, the data is regularly spaced.<br>\n",
        "\n",
        "If the value is around 0.5, it is random.<br>\n",
        "\n",
        "If the value is between {0.7, ..., 0.99}, it has a high tendency to cluster."
      ]
    },
    {
      "cell_type": "code",
      "metadata": {
        "id": "qk0GjTot85Am"
      },
      "source": [
        "from sklearn.neighbors import NearestNeighbors\n",
        "from random import sample\n",
        "from numpy.random import uniform\n",
        "import numpy as np\n",
        "from math import isnan\n",
        " \n",
        "def hopkins(X):\n",
        "    d = X.shape[1]\n",
        "    n=X.shape[0]\n",
        "    m = int(0.1 * n) \n",
        "    nbrs = NearestNeighbors(n_neighbors=1).fit(X.values)\n",
        " \n",
        "    rand_X = sample(range(0, n, 1), m)\n",
        " \n",
        "    ujd = []\n",
        "    wjd = []\n",
        "    for j in range(0, m):\n",
        "        u_dist, _ = nbrs.kneighbors(uniform(np.amin(X,axis=0),np.amax(X,axis=0),d).reshape(1, -1), 2, return_distance=True)\n",
        "        ujd.append(u_dist[0][1])\n",
        "        w_dist, _ = nbrs.kneighbors(X.iloc[rand_X[j]].values.reshape(1, -1), 2, return_distance=True)\n",
        "        wjd.append(w_dist[0][1])\n",
        " \n",
        "    H = sum(ujd) / (sum(ujd) + sum(wjd))\n",
        "    if isnan(H):\n",
        "        print(ujd, wjd)\n",
        "        H = 0\n",
        " \n",
        "    return H"
      ],
      "execution_count": null,
      "outputs": []
    },
    {
      "cell_type": "code",
      "metadata": {
        "colab": {
          "base_uri": "https://localhost:8080/"
        },
        "id": "EqlZzzOPKvQD",
        "outputId": "a525d375-3f6b-4d9a-f1c7-406645fb066f"
      },
      "source": [
        "hopkins(rfm_df_scaled)"
      ],
      "execution_count": null,
      "outputs": [
        {
          "output_type": "execute_result",
          "data": {
            "text/plain": [
              "0.9520333534331353"
            ]
          },
          "metadata": {
            "tags": []
          },
          "execution_count": 30
        }
      ]
    },
    {
      "cell_type": "markdown",
      "metadata": {
        "id": "nf_LiGutND64"
      },
      "source": [
        "# Modeling"
      ]
    },
    {
      "cell_type": "markdown",
      "metadata": {
        "id": "-XjvL2SPNoHr"
      },
      "source": [
        "## fitting the kmeans with some random number of clusters"
      ]
    },
    {
      "cell_type": "code",
      "metadata": {
        "colab": {
          "base_uri": "https://localhost:8080/"
        },
        "id": "XLv5zkrQNEyH",
        "outputId": "7683b35d-a7cf-4762-e660-cbd7291e4d5b"
      },
      "source": [
        "kmeans=KMeans(n_clusters=4,max_iter=50)\n",
        "kmeans.fit(rfm_df_scaled)"
      ],
      "execution_count": null,
      "outputs": [
        {
          "output_type": "execute_result",
          "data": {
            "text/plain": [
              "KMeans(algorithm='auto', copy_x=True, init='k-means++', max_iter=50,\n",
              "       n_clusters=4, n_init=10, n_jobs=None, precompute_distances='auto',\n",
              "       random_state=None, tol=0.0001, verbose=0)"
            ]
          },
          "metadata": {
            "tags": []
          },
          "execution_count": 31
        }
      ]
    },
    {
      "cell_type": "code",
      "metadata": {
        "colab": {
          "base_uri": "https://localhost:8080/"
        },
        "id": "KcX5VlXzNsaP",
        "outputId": "1a3f15f8-90c7-403f-f05e-9f4279f6c0f1"
      },
      "source": [
        "kmeans.labels_"
      ],
      "execution_count": null,
      "outputs": [
        {
          "output_type": "execute_result",
          "data": {
            "text/plain": [
              "array([1, 3, 0, ..., 1, 0, 0], dtype=int32)"
            ]
          },
          "metadata": {
            "tags": []
          },
          "execution_count": 32
        }
      ]
    },
    {
      "cell_type": "code",
      "metadata": {
        "colab": {
          "base_uri": "https://localhost:8080/"
        },
        "id": "Z8yXuIwuN8Cf",
        "outputId": "260ba2b2-95f1-4046-d18f-589cde7632d0"
      },
      "source": [
        "kmeans.inertia_"
      ],
      "execution_count": null,
      "outputs": [
        {
          "output_type": "execute_result",
          "data": {
            "text/plain": [
              "3360.471022762189"
            ]
          },
          "metadata": {
            "tags": []
          },
          "execution_count": 33
        }
      ]
    },
    {
      "cell_type": "markdown",
      "metadata": {
        "id": "ivjYLQyyNwuH"
      },
      "source": [
        "## Finding the number of optimal clusters"
      ]
    },
    {
      "cell_type": "markdown",
      "metadata": {
        "id": "Dp4xHVf2O_Fv"
      },
      "source": [
        "### elbow curve method (sum of squared distances)"
      ]
    },
    {
      "cell_type": "code",
      "metadata": {
        "colab": {
          "base_uri": "https://localhost:8080/",
          "height": 296
        },
        "id": "8PCIIqdnNtjX",
        "outputId": "02671002-c6b3-461c-e06f-ad151159f6ba"
      },
      "source": [
        "elbow=[]\n",
        "for i in range(2,9): #more than 8 clusters in business point of view is not promising\n",
        "    kmeans=KMeans(n_clusters=i,max_iter=50)\n",
        "    kmeans.fit(rfm_df_scaled)\n",
        "    elbow.append(kmeans.inertia_) \n",
        "sns.lineplot(y=elbow,x=range(2,9),markers=True) #plot the ssd of each cluster\n",
        "plt.xlabel('number of clusters')\n",
        "plt.ylabel('cost function(SSD')"
      ],
      "execution_count": null,
      "outputs": [
        {
          "output_type": "execute_result",
          "data": {
            "text/plain": [
              "Text(0, 0.5, 'cost function(SSD')"
            ]
          },
          "metadata": {
            "tags": []
          },
          "execution_count": 303
        },
        {
          "output_type": "display_data",
          "data": {
            "image/png": "[encoded data removed]",
            "text/plain": [
              "<Figure size 432x288 with 1 Axes>"
            ]
          },
          "metadata": {
            "tags": [],
            "needs_background": "light"
          }
        }
      ]
    },
    {
      "cell_type": "markdown",
      "metadata": {
        "id": "kKjngcnLUVbR"
      },
      "source": [
        "as per elbow curve the rate of drop of SSD is significant at 3.<br>\n",
        "(when we go from 2-3 clusters ssd drop is significant with more slope than from 3-4 as we keep on increase the clusters this will surely drop further but with less change of rate)"
      ]
    },
    {
      "cell_type": "markdown",
      "metadata": {
        "id": "Xd3pgIiIU58p"
      },
      "source": [
        "### silhouette score"
      ]
    },
    {
      "cell_type": "markdown",
      "metadata": {
        "id": "5qUMzHe9WZK7"
      },
      "source": [
        "silhouette_score=$\\frac{b_i-a_i}{max(b_i,a_i)}$\n",
        "* $a_i$ is the mean **intra-cluster** distance to all the points in its own cluster.\n",
        "* $b_i$ is the mean **inter-cluster** distance to all the points in the nearest cluster that the data point is not a part of <br> \n",
        "\n",
        "The value of the silhouette score range lies between -1 to 1.\n",
        "- A score closer to 1 indicates that the data point is very similar to other data points in the cluster\n",
        "- A score closer to -1 indicates that the data point is not similar to the data points in its cluster."
      ]
    },
    {
      "cell_type": "code",
      "metadata": {
        "colab": {
          "base_uri": "https://localhost:8080/"
        },
        "id": "m9uU57I9UpZ2",
        "outputId": "3c7950a3-1749-4fc1-924c-d337039afde0"
      },
      "source": [
        "for i in range(2,9):\n",
        "    kmeans = KMeans(n_clusters=i, max_iter=50)\n",
        "    kmeans.fit(rfm_df_scaled)    \n",
        "    cluster_labels = kmeans.labels_\n",
        "    silhouette_avg = silhouette_score(rfm_df_scaled, cluster_labels)\n",
        "    print(\"For n_clusters={0}, the silhouette score is {1}\".format(i, silhouette_avg))"
      ],
      "execution_count": null,
      "outputs": [
        {
          "output_type": "stream",
          "text": [
            "For n_clusters=2, the silhouette score is 0.5415858652525395\n",
            "For n_clusters=3, the silhouette score is 0.5084901609598225\n",
            "For n_clusters=4, the silhouette score is 0.47782241003860476\n",
            "For n_clusters=5, the silhouette score is 0.4662700564189704\n",
            "For n_clusters=6, the silhouette score is 0.41701094135102007\n",
            "For n_clusters=7, the silhouette score is 0.41497171900778634\n",
            "For n_clusters=8, the silhouette score is 0.4119167324764657\n"
          ],
          "name": "stdout"
        }
      ]
    },
    {
      "cell_type": "markdown",
      "metadata": {
        "id": "llEFGq_UbnTH"
      },
      "source": [
        "* obviously 2 clusters are not a good choice \n",
        "* but 3 sounds more natural in a business point of view."
      ]
    },
    {
      "cell_type": "markdown",
      "metadata": {
        "id": "5lNvYWafck6A"
      },
      "source": [
        "## build final model"
      ]
    },
    {
      "cell_type": "code",
      "metadata": {
        "colab": {
          "base_uri": "https://localhost:8080/"
        },
        "id": "OPpxdUKPcDjI",
        "outputId": "0dec1d65-2531-43a3-a482-9749f1e84a68"
      },
      "source": [
        "kmeans=KMeans(n_clusters=3,max_iter=50)\n",
        "kmeans.fit(rfm_df_scaled)"
      ],
      "execution_count": null,
      "outputs": [
        {
          "output_type": "execute_result",
          "data": {
            "text/plain": [
              "KMeans(algorithm='auto', copy_x=True, init='k-means++', max_iter=50,\n",
              "       n_clusters=3, n_init=10, n_jobs=None, precompute_distances='auto',\n",
              "       random_state=None, tol=0.0001, verbose=0)"
            ]
          },
          "metadata": {
            "tags": []
          },
          "execution_count": 45
        }
      ]
    },
    {
      "cell_type": "code",
      "metadata": {
        "colab": {
          "base_uri": "https://localhost:8080/"
        },
        "id": "T92qjU7Oc_FP",
        "outputId": "362ac477-4897-4882-dc6e-2ad05f57977c"
      },
      "source": [
        "kmeans.labels_"
      ],
      "execution_count": null,
      "outputs": [
        {
          "output_type": "execute_result",
          "data": {
            "text/plain": [
              "array([1, 2, 0, ..., 1, 0, 0], dtype=int32)"
            ]
          },
          "metadata": {
            "tags": []
          },
          "execution_count": 46
        }
      ]
    },
    {
      "cell_type": "markdown",
      "metadata": {
        "id": "5UWlUrXbdOXP"
      },
      "source": [
        "# assigning labels to model"
      ]
    },
    {
      "cell_type": "code",
      "metadata": {
        "id": "ZXAI5gCcdASP"
      },
      "source": [
        "rfm_df['labels_Kmeans']=kmeans.labels_"
      ],
      "execution_count": null,
      "outputs": []
    },
    {
      "cell_type": "code",
      "metadata": {
        "colab": {
          "base_uri": "https://localhost:8080/",
          "height": 198
        },
        "id": "_9ICp3FVdURv",
        "outputId": "8e8ca225-1d74-497f-db86-8336bd3ceafb"
      },
      "source": [
        "rfm_df.head()"
      ],
      "execution_count": null,
      "outputs": [
        {
          "output_type": "execute_result",
          "data": {
            "text/html": [
              "<div>\n",
              "<style scoped>\n",
              "    .dataframe tbody tr th:only-of-type {\n",
              "        vertical-align: middle;\n",
              "    }\n",
              "\n",
              "    .dataframe tbody tr th {\n",
              "        vertical-align: top;\n",
              "    }\n",
              "\n",
              "    .dataframe thead th {\n",
              "        text-align: right;\n",
              "    }\n",
              "</style>\n",
              "<table border=\"1\" class=\"dataframe\">\n",
              "  <thead>\n",
              "    <tr style=\"text-align: right;\">\n",
              "      <th></th>\n",
              "      <th>CustomerID</th>\n",
              "      <th>amount</th>\n",
              "      <th>frequency</th>\n",
              "      <th>recency</th>\n",
              "      <th>labels_Kmeans</th>\n",
              "    </tr>\n",
              "  </thead>\n",
              "  <tbody>\n",
              "    <tr>\n",
              "      <th>0</th>\n",
              "      <td>12346.0</td>\n",
              "      <td>0.00</td>\n",
              "      <td>2</td>\n",
              "      <td>325</td>\n",
              "      <td>1</td>\n",
              "    </tr>\n",
              "    <tr>\n",
              "      <th>1</th>\n",
              "      <td>12347.0</td>\n",
              "      <td>4310.00</td>\n",
              "      <td>182</td>\n",
              "      <td>1</td>\n",
              "      <td>2</td>\n",
              "    </tr>\n",
              "    <tr>\n",
              "      <th>2</th>\n",
              "      <td>12348.0</td>\n",
              "      <td>1797.24</td>\n",
              "      <td>31</td>\n",
              "      <td>74</td>\n",
              "      <td>0</td>\n",
              "    </tr>\n",
              "    <tr>\n",
              "      <th>3</th>\n",
              "      <td>12349.0</td>\n",
              "      <td>1757.55</td>\n",
              "      <td>73</td>\n",
              "      <td>18</td>\n",
              "      <td>0</td>\n",
              "    </tr>\n",
              "    <tr>\n",
              "      <th>4</th>\n",
              "      <td>12350.0</td>\n",
              "      <td>334.40</td>\n",
              "      <td>17</td>\n",
              "      <td>309</td>\n",
              "      <td>1</td>\n",
              "    </tr>\n",
              "  </tbody>\n",
              "</table>\n",
              "</div>"
            ],
            "text/plain": [
              "   CustomerID   amount  frequency  recency  labels_Kmeans\n",
              "0     12346.0     0.00          2      325              1\n",
              "1     12347.0  4310.00        182        1              2\n",
              "2     12348.0  1797.24         31       74              0\n",
              "3     12349.0  1757.55         73       18              0\n",
              "4     12350.0   334.40         17      309              1"
            ]
          },
          "metadata": {
            "tags": []
          },
          "execution_count": 52
        }
      ]
    },
    {
      "cell_type": "markdown",
      "metadata": {
        "id": "svpx0KVsr2vX"
      },
      "source": [
        "### checking how the dataset works now"
      ]
    },
    {
      "cell_type": "code",
      "metadata": {
        "colab": {
          "base_uri": "https://localhost:8080/",
          "height": 296
        },
        "id": "m4mu7iHVdV0v",
        "outputId": "e7f962ce-3423-4e4e-bc39-678fab765abd"
      },
      "source": [
        "sns.boxplot(y=rfm_df['amount'],x=rfm_df['labels_Kmeans'])"
      ],
      "execution_count": null,
      "outputs": [
        {
          "output_type": "execute_result",
          "data": {
            "text/plain": [
              "<matplotlib.axes._subplots.AxesSubplot at 0x7fc3b4649438>"
            ]
          },
          "metadata": {
            "tags": []
          },
          "execution_count": 310
        },
        {
          "output_type": "display_data",
          "data": {
            "image/png": "[encoded data removed]",
            "text/plain": [
              "<Figure size 432x288 with 1 Axes>"
            ]
          },
          "metadata": {
            "tags": [],
            "needs_background": "light"
          }
        }
      ]
    },
    {
      "cell_type": "markdown",
      "metadata": {
        "id": "46mrALVVBkVW"
      },
      "source": [
        "observations:\n",
        "* label 1 $\\rightarrow$ high value customer\n",
        "* label 2 $\\rightarrow$ moderate value customer\n",
        "* label 3 $\\rightarrow$ low value customer"
      ]
    },
    {
      "cell_type": "code",
      "metadata": {
        "colab": {
          "base_uri": "https://localhost:8080/",
          "height": 296
        },
        "id": "VFjFnUcLsHYZ",
        "outputId": "74d21619-29d1-4f23-b3eb-67cccdfad837"
      },
      "source": [
        "sns.boxplot(y=rfm_df['frequency'],x=rfm_df['labels_Kmeans'])"
      ],
      "execution_count": null,
      "outputs": [
        {
          "output_type": "execute_result",
          "data": {
            "text/plain": [
              "<matplotlib.axes._subplots.AxesSubplot at 0x7fc3b447c860>"
            ]
          },
          "metadata": {
            "tags": []
          },
          "execution_count": 312
        },
        {
          "output_type": "display_data",
          "data": {
            "image/png": "[encoded data removed]",
            "text/plain": [
              "<Figure size 432x288 with 1 Axes>"
            ]
          },
          "metadata": {
            "tags": [],
            "needs_background": "light"
          }
        }
      ]
    },
    {
      "cell_type": "markdown",
      "metadata": {
        "id": "4pV8wfTjB2GM"
      },
      "source": [
        "observations:\n",
        "* label 1 $\\rightarrow$ high frequent customer\n",
        "* label 2 $\\rightarrow$ moderate frequent customer\n",
        "* label 3 $\\rightarrow$ low frequent customer"
      ]
    },
    {
      "cell_type": "code",
      "metadata": {
        "colab": {
          "base_uri": "https://localhost:8080/",
          "height": 296
        },
        "id": "tgxz9ZBhsL8h",
        "outputId": "73e2fb47-5f05-4bcb-c547-9056dce2b3b5"
      },
      "source": [
        "sns.boxplot(y=rfm_df['recency'],x=rfm_df['labels_Kmeans'])"
      ],
      "execution_count": null,
      "outputs": [
        {
          "output_type": "execute_result",
          "data": {
            "text/plain": [
              "<matplotlib.axes._subplots.AxesSubplot at 0x7fc3b4694be0>"
            ]
          },
          "metadata": {
            "tags": []
          },
          "execution_count": 313
        },
        {
          "output_type": "display_data",
          "data": {
            "image/png": "[encoded data removed]",
            "text/plain": [
              "<Figure size 432x288 with 1 Axes>"
            ]
          },
          "metadata": {
            "tags": [],
            "needs_background": "light"
          }
        }
      ]
    },
    {
      "cell_type": "markdown",
      "metadata": {
        "id": "6RRQ85VUB7rn"
      },
      "source": [
        "same pattern is following here also:\n",
        "* label 1 $\\rightarrow$ high recency customer\n",
        "* label 2 $\\rightarrow$ moderate recency customer\n",
        "* label 3 $\\rightarrow$ low recency customer"
      ]
    },
    {
      "cell_type": "code",
      "metadata": {
        "colab": {
          "base_uri": "https://localhost:8080/",
          "height": 351
        },
        "id": "2Ue-QeaZy3LG",
        "outputId": "4374c327-978a-4f13-f0b1-f3919425298a"
      },
      "source": [
        "sns.scatterplot(rfm_df['amount'],rfm_df['recency'],hue=rfm_df['labels_Kmeans'])"
      ],
      "execution_count": null,
      "outputs": [
        {
          "output_type": "stream",
          "text": [
            "/usr/local/lib/python3.6/dist-packages/seaborn/_decorators.py:43: FutureWarning: Pass the following variables as keyword args: x, y. From version 0.12, the only valid positional argument will be `data`, and passing other arguments without an explicit keyword will result in an error or misinterpretation.\n",
            "  FutureWarning\n"
          ],
          "name": "stderr"
        },
        {
          "output_type": "execute_result",
          "data": {
            "text/plain": [
              "<matplotlib.axes._subplots.AxesSubplot at 0x7fc3b8a07860>"
            ]
          },
          "metadata": {
            "tags": []
          },
          "execution_count": 317
        },
        {
          "output_type": "display_data",
          "data": {
            "image/png": "[encoded data removed]",
            "text/plain": [
              "<Figure size 432x288 with 1 Axes>"
            ]
          },
          "metadata": {
            "tags": [],
            "needs_background": "light"
          }
        }
      ]
    },
    {
      "cell_type": "code",
      "metadata": {
        "colab": {
          "base_uri": "https://localhost:8080/",
          "height": 351
        },
        "id": "2wAYNXYnzdiV",
        "outputId": "9d263c25-5f5f-4040-dc86-7e0a4c590791"
      },
      "source": [
        "sns.scatterplot(rfm_df['amount'],rfm_df['frequency'],hue=rfm_df['labels_Kmeans'])"
      ],
      "execution_count": null,
      "outputs": [
        {
          "output_type": "stream",
          "text": [
            "/usr/local/lib/python3.6/dist-packages/seaborn/_decorators.py:43: FutureWarning: Pass the following variables as keyword args: x, y. From version 0.12, the only valid positional argument will be `data`, and passing other arguments without an explicit keyword will result in an error or misinterpretation.\n",
            "  FutureWarning\n"
          ],
          "name": "stderr"
        },
        {
          "output_type": "execute_result",
          "data": {
            "text/plain": [
              "<matplotlib.axes._subplots.AxesSubplot at 0x7fc3b8a07e10>"
            ]
          },
          "metadata": {
            "tags": []
          },
          "execution_count": 318
        },
        {
          "output_type": "display_data",
          "data": {
            "image/png": "[encoded data removed]",
            "text/plain": [
              "<Figure size 432x288 with 1 Axes>"
            ]
          },
          "metadata": {
            "tags": [],
            "needs_background": "light"
          }
        }
      ]
    },
    {
      "cell_type": "markdown",
      "metadata": {
        "id": "0IReDGkNCxrm"
      },
      "source": [
        "# Hierarchical Clustering"
      ]
    },
    {
      "cell_type": "code",
      "metadata": {
        "colab": {
          "base_uri": "https://localhost:8080/",
          "height": 198
        },
        "id": "000E2sluCyVd",
        "outputId": "ebb801ed-5e66-4056-c4e7-d25d4eb3b63c"
      },
      "source": [
        "rfm_df_scaled.head()"
      ],
      "execution_count": null,
      "outputs": [
        {
          "output_type": "execute_result",
          "data": {
            "text/html": [
              "<div>\n",
              "<style scoped>\n",
              "    .dataframe tbody tr th:only-of-type {\n",
              "        vertical-align: middle;\n",
              "    }\n",
              "\n",
              "    .dataframe tbody tr th {\n",
              "        vertical-align: top;\n",
              "    }\n",
              "\n",
              "    .dataframe thead th {\n",
              "        text-align: right;\n",
              "    }\n",
              "</style>\n",
              "<table border=\"1\" class=\"dataframe\">\n",
              "  <thead>\n",
              "    <tr style=\"text-align: right;\">\n",
              "      <th></th>\n",
              "      <th>amount</th>\n",
              "      <th>frequency</th>\n",
              "      <th>recency</th>\n",
              "    </tr>\n",
              "  </thead>\n",
              "  <tbody>\n",
              "    <tr>\n",
              "      <th>0</th>\n",
              "      <td>-0.723738</td>\n",
              "      <td>-0.752888</td>\n",
              "      <td>2.301611</td>\n",
              "    </tr>\n",
              "    <tr>\n",
              "      <th>1</th>\n",
              "      <td>1.731617</td>\n",
              "      <td>1.042467</td>\n",
              "      <td>-0.906466</td>\n",
              "    </tr>\n",
              "    <tr>\n",
              "      <th>2</th>\n",
              "      <td>0.300128</td>\n",
              "      <td>-0.463636</td>\n",
              "      <td>-0.183658</td>\n",
              "    </tr>\n",
              "    <tr>\n",
              "      <th>3</th>\n",
              "      <td>0.277517</td>\n",
              "      <td>-0.044720</td>\n",
              "      <td>-0.738141</td>\n",
              "    </tr>\n",
              "    <tr>\n",
              "      <th>4</th>\n",
              "      <td>-0.533235</td>\n",
              "      <td>-0.603275</td>\n",
              "      <td>2.143188</td>\n",
              "    </tr>\n",
              "  </tbody>\n",
              "</table>\n",
              "</div>"
            ],
            "text/plain": [
              "     amount  frequency   recency\n",
              "0 -0.723738  -0.752888  2.301611\n",
              "1  1.731617   1.042467 -0.906466\n",
              "2  0.300128  -0.463636 -0.183658\n",
              "3  0.277517  -0.044720 -0.738141\n",
              "4 -0.533235  -0.603275  2.143188"
            ]
          },
          "metadata": {
            "tags": []
          },
          "execution_count": 35
        }
      ]
    },
    {
      "cell_type": "code",
      "metadata": {
        "colab": {
          "base_uri": "https://localhost:8080/",
          "height": 198
        },
        "id": "PL8ILCATDea1",
        "outputId": "50c34bc4-4a62-4087-8af8-05647e6f35ce"
      },
      "source": [
        "rfm_df.head()"
      ],
      "execution_count": null,
      "outputs": [
        {
          "output_type": "execute_result",
          "data": {
            "text/html": [
              "<div>\n",
              "<style scoped>\n",
              "    .dataframe tbody tr th:only-of-type {\n",
              "        vertical-align: middle;\n",
              "    }\n",
              "\n",
              "    .dataframe tbody tr th {\n",
              "        vertical-align: top;\n",
              "    }\n",
              "\n",
              "    .dataframe thead th {\n",
              "        text-align: right;\n",
              "    }\n",
              "</style>\n",
              "<table border=\"1\" class=\"dataframe\">\n",
              "  <thead>\n",
              "    <tr style=\"text-align: right;\">\n",
              "      <th></th>\n",
              "      <th>CustomerID</th>\n",
              "      <th>amount</th>\n",
              "      <th>frequency</th>\n",
              "      <th>recency</th>\n",
              "      <th>labels_Kmeans</th>\n",
              "    </tr>\n",
              "  </thead>\n",
              "  <tbody>\n",
              "    <tr>\n",
              "      <th>0</th>\n",
              "      <td>12346.0</td>\n",
              "      <td>0.00</td>\n",
              "      <td>2</td>\n",
              "      <td>325</td>\n",
              "      <td>1</td>\n",
              "    </tr>\n",
              "    <tr>\n",
              "      <th>1</th>\n",
              "      <td>12347.0</td>\n",
              "      <td>4310.00</td>\n",
              "      <td>182</td>\n",
              "      <td>1</td>\n",
              "      <td>2</td>\n",
              "    </tr>\n",
              "    <tr>\n",
              "      <th>2</th>\n",
              "      <td>12348.0</td>\n",
              "      <td>1797.24</td>\n",
              "      <td>31</td>\n",
              "      <td>74</td>\n",
              "      <td>0</td>\n",
              "    </tr>\n",
              "    <tr>\n",
              "      <th>3</th>\n",
              "      <td>12349.0</td>\n",
              "      <td>1757.55</td>\n",
              "      <td>73</td>\n",
              "      <td>18</td>\n",
              "      <td>0</td>\n",
              "    </tr>\n",
              "    <tr>\n",
              "      <th>4</th>\n",
              "      <td>12350.0</td>\n",
              "      <td>334.40</td>\n",
              "      <td>17</td>\n",
              "      <td>309</td>\n",
              "      <td>1</td>\n",
              "    </tr>\n",
              "  </tbody>\n",
              "</table>\n",
              "</div>"
            ],
            "text/plain": [
              "   CustomerID   amount  frequency  recency  labels_Kmeans\n",
              "0     12346.0     0.00          2      325              1\n",
              "1     12347.0  4310.00        182        1              2\n",
              "2     12348.0  1797.24         31       74              0\n",
              "3     12349.0  1757.55         73       18              0\n",
              "4     12350.0   334.40         17      309              1"
            ]
          },
          "metadata": {
            "tags": []
          },
          "execution_count": 53
        }
      ]
    },
    {
      "cell_type": "markdown",
      "metadata": {
        "id": "-NzcswLsDqNF"
      },
      "source": [
        "## single linkage"
      ]
    },
    {
      "cell_type": "code",
      "metadata": {
        "colab": {
          "base_uri": "https://localhost:8080/",
          "height": 268
        },
        "id": "3pr5Yp3nDrP0",
        "outputId": "3f869c9c-3f1f-43ec-8ba4-03935334da1b"
      },
      "source": [
        "single_likage=linkage(rfm_df_scaled,method='single',metric='euclidean')\n",
        "dendrogram(single_likage)\n",
        "plt.show()"
      ],
      "execution_count": null,
      "outputs": [
        {
          "output_type": "display_data",
          "data": {
            "image/png": "[encoded data removed]",
            "text/plain": [
              "<Figure size 432x288 with 1 Axes>"
            ]
          },
          "metadata": {
            "tags": [],
            "needs_background": "light"
          }
        }
      ]
    },
    {
      "cell_type": "markdown",
      "metadata": {
        "id": "kTPqdeOeFGGs"
      },
      "source": [
        "completely useless as it formed single linkage for each and evey point"
      ]
    },
    {
      "cell_type": "markdown",
      "metadata": {
        "id": "ay5VORP8EjIF"
      },
      "source": [
        "## complete linkage"
      ]
    },
    {
      "cell_type": "code",
      "metadata": {
        "colab": {
          "base_uri": "https://localhost:8080/",
          "height": 268
        },
        "id": "6uWm8RvoEky1",
        "outputId": "0f6a3980-2a33-4278-8223-bbc9c1652415"
      },
      "source": [
        "complete_likage=linkage(rfm_df_scaled,method='complete',metric='euclidean')\n",
        "dendrogram(complete_likage)\n",
        "plt.show()"
      ],
      "execution_count": null,
      "outputs": [
        {
          "output_type": "display_data",
          "data": {
            "image/png": "[encoded data removed]",
            "text/plain": [
              "<Figure size 432x288 with 1 Axes>"
            ]
          },
          "metadata": {
            "tags": [],
            "needs_background": "light"
          }
        }
      ]
    },
    {
      "cell_type": "markdown",
      "metadata": {
        "id": "XU062NS-PnkY"
      },
      "source": [
        "It is a great tool. we can look at what stage an element is joining a cluster and hence see how similar or dissimilar it is to the rest of the cluster. If it joins at the higher height, it is quite different from the rest of the group. You can also see which elements are joining which cluster at what stage and can thus use business understanding to cut the dendrogram more accurately.<br>\n",
        "but in this study as the data points are overly crowded it not clear.\n",
        "if the number of data points were less it a great one"
      ]
    },
    {
      "cell_type": "markdown",
      "metadata": {
        "id": "voYVjziJGJwm"
      },
      "source": [
        "## cutting the tree dendrogram"
      ]
    },
    {
      "cell_type": "markdown",
      "metadata": {
        "id": "QlRBTNBoGXKU"
      },
      "source": [
        "making it to 3 clusters <br>\n",
        "sky blue, red and green as clusters"
      ]
    },
    {
      "cell_type": "code",
      "metadata": {
        "colab": {
          "base_uri": "https://localhost:8080/"
        },
        "id": "tNMARu50GM_d",
        "outputId": "26e5128d-1ec5-4cf4-f599-82d1786ebb09"
      },
      "source": [
        "cut_tree=cut_tree(complete_likage,n_clusters=3)\n",
        "cut_tree"
      ],
      "execution_count": null,
      "outputs": [
        {
          "output_type": "execute_result",
          "data": {
            "text/plain": [
              "array([[0],\n",
              "       [1],\n",
              "       [0],\n",
              "       ...,\n",
              "       [0],\n",
              "       [0],\n",
              "       [0]])"
            ]
          },
          "metadata": {
            "tags": []
          },
          "execution_count": 40
        }
      ]
    },
    {
      "cell_type": "code",
      "metadata": {
        "colab": {
          "base_uri": "https://localhost:8080/"
        },
        "id": "34M_0QUnGQW-",
        "outputId": "205956fe-0aed-477b-b18c-72a6dcf7c2b5"
      },
      "source": [
        "cut_tree.shape"
      ],
      "execution_count": null,
      "outputs": [
        {
          "output_type": "execute_result",
          "data": {
            "text/plain": [
              "(4293, 1)"
            ]
          },
          "metadata": {
            "tags": []
          },
          "execution_count": 41
        }
      ]
    },
    {
      "cell_type": "markdown",
      "metadata": {
        "id": "iDz5e8rHHDKF"
      },
      "source": [
        "converting this to numpy series"
      ]
    },
    {
      "cell_type": "code",
      "metadata": {
        "colab": {
          "base_uri": "https://localhost:8080/"
        },
        "id": "Vo3vQQiDHADe",
        "outputId": "28d2cce0-a01e-4caf-dc6f-f528e97b031e"
      },
      "source": [
        "cut_tree=cut_tree.reshape(-1,)\n",
        "cut_tree"
      ],
      "execution_count": null,
      "outputs": [
        {
          "output_type": "execute_result",
          "data": {
            "text/plain": [
              "array([0, 1, 0, ..., 0, 0, 0])"
            ]
          },
          "metadata": {
            "tags": []
          },
          "execution_count": 44
        }
      ]
    },
    {
      "cell_type": "code",
      "metadata": {
        "id": "oCEVpraxHBbd"
      },
      "source": [
        "rfm_df['hierchial_labels']=cut_tree"
      ],
      "execution_count": null,
      "outputs": []
    },
    {
      "cell_type": "code",
      "metadata": {
        "colab": {
          "base_uri": "https://localhost:8080/",
          "height": 198
        },
        "id": "ChoKlPI_HlZp",
        "outputId": "2882cfd2-9897-45ac-d8d2-4079550f800e"
      },
      "source": [
        "rfm_df.head()"
      ],
      "execution_count": null,
      "outputs": [
        {
          "output_type": "execute_result",
          "data": {
            "text/html": [
              "<div>\n",
              "<style scoped>\n",
              "    .dataframe tbody tr th:only-of-type {\n",
              "        vertical-align: middle;\n",
              "    }\n",
              "\n",
              "    .dataframe tbody tr th {\n",
              "        vertical-align: top;\n",
              "    }\n",
              "\n",
              "    .dataframe thead th {\n",
              "        text-align: right;\n",
              "    }\n",
              "</style>\n",
              "<table border=\"1\" class=\"dataframe\">\n",
              "  <thead>\n",
              "    <tr style=\"text-align: right;\">\n",
              "      <th></th>\n",
              "      <th>CustomerID</th>\n",
              "      <th>amount</th>\n",
              "      <th>frequency</th>\n",
              "      <th>recency</th>\n",
              "      <th>labels_Kmeans</th>\n",
              "      <th>hierchial_labels</th>\n",
              "    </tr>\n",
              "  </thead>\n",
              "  <tbody>\n",
              "    <tr>\n",
              "      <th>0</th>\n",
              "      <td>12346.0</td>\n",
              "      <td>0.00</td>\n",
              "      <td>2</td>\n",
              "      <td>325</td>\n",
              "      <td>1</td>\n",
              "      <td>0</td>\n",
              "    </tr>\n",
              "    <tr>\n",
              "      <th>1</th>\n",
              "      <td>12347.0</td>\n",
              "      <td>4310.00</td>\n",
              "      <td>182</td>\n",
              "      <td>1</td>\n",
              "      <td>2</td>\n",
              "      <td>1</td>\n",
              "    </tr>\n",
              "    <tr>\n",
              "      <th>2</th>\n",
              "      <td>12348.0</td>\n",
              "      <td>1797.24</td>\n",
              "      <td>31</td>\n",
              "      <td>74</td>\n",
              "      <td>0</td>\n",
              "      <td>0</td>\n",
              "    </tr>\n",
              "    <tr>\n",
              "      <th>3</th>\n",
              "      <td>12349.0</td>\n",
              "      <td>1757.55</td>\n",
              "      <td>73</td>\n",
              "      <td>18</td>\n",
              "      <td>0</td>\n",
              "      <td>0</td>\n",
              "    </tr>\n",
              "    <tr>\n",
              "      <th>4</th>\n",
              "      <td>12350.0</td>\n",
              "      <td>334.40</td>\n",
              "      <td>17</td>\n",
              "      <td>309</td>\n",
              "      <td>1</td>\n",
              "      <td>0</td>\n",
              "    </tr>\n",
              "  </tbody>\n",
              "</table>\n",
              "</div>"
            ],
            "text/plain": [
              "   CustomerID   amount  frequency  recency  labels_Kmeans  hierchial_labels\n",
              "0     12346.0     0.00          2      325              1                 0\n",
              "1     12347.0  4310.00        182        1              2                 1\n",
              "2     12348.0  1797.24         31       74              0                 0\n",
              "3     12349.0  1757.55         73       18              0                 0\n",
              "4     12350.0   334.40         17      309              1                 0"
            ]
          },
          "metadata": {
            "tags": []
          },
          "execution_count": 55
        }
      ]
    },
    {
      "cell_type": "markdown",
      "metadata": {
        "id": "bwpyjGFWHqKW"
      },
      "source": [
        "## checking the plots"
      ]
    },
    {
      "cell_type": "code",
      "metadata": {
        "colab": {
          "base_uri": "https://localhost:8080/",
          "height": 297
        },
        "id": "4qDVuigJHmIF",
        "outputId": "18419b6a-f521-427b-9793-b03dfe0eca5a"
      },
      "source": [
        "sns.boxplot(y=rfm_df['amount'],x=rfm_df['hierchial_labels'])"
      ],
      "execution_count": null,
      "outputs": [
        {
          "output_type": "execute_result",
          "data": {
            "text/plain": [
              "<matplotlib.axes._subplots.AxesSubplot at 0x7ffb4381c6a0>"
            ]
          },
          "metadata": {
            "tags": []
          },
          "execution_count": 57
        },
        {
          "output_type": "display_data",
          "data": {
            "image/png": "[encoded data removed]",
            "text/plain": [
              "<Figure size 432x288 with 1 Axes>"
            ]
          },
          "metadata": {
            "tags": [],
            "needs_background": "light"
          }
        }
      ]
    },
    {
      "cell_type": "code",
      "metadata": {
        "id": "kIB9-pqtIBrn"
      },
      "source": [
        ""
      ],
      "execution_count": null,
      "outputs": []
    }
  ]
}